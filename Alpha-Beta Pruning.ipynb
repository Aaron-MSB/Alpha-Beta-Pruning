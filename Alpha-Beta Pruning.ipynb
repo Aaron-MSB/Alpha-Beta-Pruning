{
 "cells": [
  {
   "cell_type": "code",
   "execution_count": 1,
   "metadata": {
    "colab": {
     "base_uri": "https://localhost:8080/",
     "height": 35
    },
    "executionInfo": {
     "elapsed": 6,
     "status": "ok",
     "timestamp": 1691261264296,
     "user": {
      "displayName": "Masuba Aaron",
      "userId": "16431486090525848491"
     },
     "user_tz": -360
    },
    "id": "Y48q22gjBYaI",
    "outputId": "660f32f5-6c0e-494c-d052-47949fb0341d"
   },
   "outputs": [
    {
     "data": {
      "application/vnd.google.colaboratory.intrinsic+json": {
       "type": "string"
      },
      "text/plain": [
       "'\\nName: Masuba Aaron\\nStudent ID: 21121017\\nEEE472L AS03\\n'"
      ]
     },
     "execution_count": 1,
     "metadata": {},
     "output_type": "execute_result"
    }
   ],
   "source": [
    "\"\"\"\n",
    "Name: Masuba Aaron\n",
    "Student ID: 21121017\n",
    "EEE472L AS03\n",
    "\"\"\""
   ]
  },
  {
   "cell_type": "code",
   "execution_count": 2,
   "metadata": {
    "id": "3rVM0I1VBr4P"
   },
   "outputs": [
    {
     "name": "stdout",
     "output_type": "stream",
     "text": [
      "Enter your student ID: 21121017\n",
      "Generated 8 random points between the minimum and maximum point limits: [2, 3, 3, 12, 6, 10, 9, 7]\n",
      "Total points to win: 10\n",
      "Achieved point by applying alpha-beta pruning = -inf\n",
      "The Winner is Megatron\n",
      "Won 8 times out of 2 number of shuffles\n"
     ]
    }
   ],
   "source": [
    "import random\n",
    "\n",
    "# Task 1:\n",
    "\n",
    "def alpha_beta_pruning(node, depth, alpha, beta, maximizing_player):\n",
    "    if depth == 0 or is_terminal_node(node):\n",
    "        return calculate_points(node)\n",
    "\n",
    "    if maximizing_player:\n",
    "        value = float('-inf')\n",
    "        for child in generate_children(node):\n",
    "            value = max(value, alpha_beta_pruning(child, depth - 1, alpha, beta, False))\n",
    "            alpha = max(alpha, value)\n",
    "            if beta <= alpha:\n",
    "                break\n",
    "        return value\n",
    "    else:\n",
    "        value = float('inf')\n",
    "        for child in generate_children(node):\n",
    "            value = min(value, alpha_beta_pruning(child, depth - 1, alpha, beta, True))\n",
    "            beta = min(beta, value)\n",
    "            if beta <= alpha:\n",
    "                break\n",
    "        return value\n",
    "\n",
    "\n",
    "def calculate_points(node):\n",
    "\n",
    "    return node.points\n",
    "\n",
    "def is_terminal_node(node):\n",
    "\n",
    "    return node.is_terminal\n",
    "\n",
    "def generate_children(node):\n",
    "\n",
    "    return node.children\n",
    "\n",
    "class Node:\n",
    "    def __init__(self, points):\n",
    "        self.points = points\n",
    "        self.children = []\n",
    "        self.is_terminal = False\n",
    "\n",
    "\n",
    "def optimus_prime_turn(root, depth):\n",
    "    alpha = float('-inf')\n",
    "    beta = float('inf')\n",
    "    return alpha_beta_pruning(root, depth, alpha, beta, True)\n",
    "\n",
    "\n",
    "def task1(student_id):\n",
    "\n",
    "    min_points = int(student_id[4])\n",
    "    max_points = int(student_id[3:5][::-1]) * 1.5\n",
    "    max_points = int(max_points) if max_points.is_integer() else int(max_points) + 1\n",
    "\n",
    "\n",
    "    random.seed(int(student_id[0]))\n",
    "    points_list = [random.randint(min_points, max_points) for _ in range(8)]\n",
    "    print(\"Generated 8 random points between the minimum and maximum point limits:\", points_list)\n",
    "\n",
    "\n",
    "    total_points_to_win = int(student_id[5:7][::-1])\n",
    "    print(\"Total points to win:\", total_points_to_win)\n",
    "    root_node = Node(0)\n",
    "    achieved_points = optimus_prime_turn(root_node, 4)\n",
    "    print(\"Achieved point by applying alpha-beta pruning =\", achieved_points)\n",
    "    if achieved_points >= total_points_to_win:\n",
    "        print(\"The winner is Optimus Prime\")\n",
    "    else:\n",
    "        print(\"The Winner is Megatron\")\n",
    "\n",
    "#task-2\n",
    "def shuffle_and_count_wins(results_list, shuffle_times):\n",
    "    optimus_prime_wins = 0\n",
    "    for _ in range(shuffle_times):\n",
    "        random.shuffle(results_list)\n",
    "        optimus_prime_wins += results_list.count(1)\n",
    "    return optimus_prime_wins\n",
    "\n",
    "def task2(student_id):\n",
    "\n",
    "    shuffle_times = int(student_id[3])\n",
    "\n",
    "\n",
    "    results_list = [0, 1, 1, 0, 1, 0, 0, 1]\n",
    "\n",
    "    wins = shuffle_and_count_wins(results_list, shuffle_times)\n",
    "    print(\"Won\", wins, \"times out of\", shuffle_times, \"number of shuffles\")\n",
    "\n",
    "if __name__ == \"__main__\":\n",
    "    student_id = input(\"Enter your student ID: \")\n",
    "    task1(student_id)\n",
    "    task2(student_id)\n"
   ]
  },
  {
   "cell_type": "code",
   "execution_count": null,
   "metadata": {},
   "outputs": [],
   "source": []
  }
 ],
 "metadata": {
  "colab": {
   "authorship_tag": "ABX9TyO+YAODwxSAJEwCjwCJ7+e2",
   "provenance": []
  },
  "kernelspec": {
   "display_name": "Python 3 (ipykernel)",
   "language": "python",
   "name": "python3"
  },
  "language_info": {
   "codemirror_mode": {
    "name": "ipython",
    "version": 3
   },
   "file_extension": ".py",
   "mimetype": "text/x-python",
   "name": "python",
   "nbconvert_exporter": "python",
   "pygments_lexer": "ipython3",
   "version": "3.10.9"
  }
 },
 "nbformat": 4,
 "nbformat_minor": 1
}
